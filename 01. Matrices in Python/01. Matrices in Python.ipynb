{
 "cells": [
  {
   "cell_type": "markdown",
   "metadata": {},
   "source": [
    "# 1. Матричные вычисления в Python\n",
    "**Цель работы**: Изучить библиотеки для матричных вычислений языка Python, средства обработки и визуализации табличных данных."
   ]
  },
  {
   "cell_type": "markdown",
   "metadata": {},
   "source": [
    "## Библиотека NumPy\n",
    "\n",
    "В языке Python отстуствуют встроенные средства для эффективной работы с векторами и матрицами. Ближайший аналог — списки, но они вычисления над ними сравнительно медленные, и в языке нет инструментов для вычисления матричных разложений, поиска обратной матрицы и т. д. Однако проблема решается подключением сторонних библиотек, из которых самой распространённой является NumPy. Многие другие библиотеки, такие как SciPy и Matplotlib строятся на её основе.\n",
    "\n",
    "Часть NumPy для большей эффективности расчётов написана на C с использованием оптимизированной для высокопроизводительных расчётов библиотеки LAPACK. Если же её быстродействия не хватает, можно подключить библиотеку Theano, позволяющую использовать для ускорения работы средства GPU видеокарты.\n",
    "\n",
    "Библиотека обычно подключается следующим образом:"
   ]
  },
  {
   "cell_type": "code",
   "execution_count": null,
   "metadata": {
    "collapsed": false
   },
   "outputs": [],
   "source": [
    "import numpy as np"
   ]
  },
  {
   "cell_type": "markdown",
   "metadata": {},
   "source": [
    "### Массивы\n",
    "\n",
    "Основной тип данных NumPy — массив, соответствующий матрицам и векторам. Он представлен классом array. Важное отличие массивов от списков заключается в том, что *все элементы имеют единый тип данных*.\n",
    "\n",
    "Массив может иметь несколько измерений, тогда его элементы будут индексироваться не числом, а парой чисел (сравните со списками списков в Python). Количество измерений называется *рангом* (rank). *Форма массива* (shape) — это кортеж размеров по всем измерениям.\n",
    "\n",
    "Конструктор класса позволяет создавать массивы на основе списков. Доступ к элементам осуществляется как обычно, указанием индекса в квадратных скобках."
   ]
  },
  {
   "cell_type": "code",
   "execution_count": null,
   "metadata": {
    "collapsed": false
   },
   "outputs": [],
   "source": [
    "a = np.array([2, 3, 5, 7])\n",
    "print ('a =', a)\n",
    "print ('Тип a:', type(a))\n",
    "print ('Форма a:', a.shape)\n",
    "print ('a[0] = {}, a[2] = {}'.format(a[0], a[2]))\n",
    "a[0] = 11\n",
    "print ('a =', a)"
   ]
  },
  {
   "cell_type": "markdown",
   "metadata": {},
   "source": [
    "Пример двумерного массива, то есть 2-го ранга. Массив инициализируется списком строк, каждая из которых представляет собой список элементов."
   ]
  },
  {
   "cell_type": "code",
   "execution_count": null,
   "metadata": {
    "collapsed": false
   },
   "outputs": [],
   "source": [
    "b = np.array([[1, 2, 3], [4, 5, 6]])\n",
    "print (b)\n",
    "print ('Форма b:', b.shape)\n",
    "print ('b[0,0] = {}, b[0,1] = {}'.format(b[0,0], b[0,1]))"
   ]
  },
  {
   "cell_type": "markdown",
   "metadata": {},
   "source": [
    "Обратите внимание на то, что оба индекса указываются в одной паре скобок через запятую."
   ]
  },
  {
   "cell_type": "markdown",
   "metadata": {},
   "source": [
    "Для некоторых массивов специального вида есть отдельные функции:\n",
    "\n",
    "- zeros — массив нулей,\n",
    "- ones — массив единиц,\n",
    "- eye (или identity) — единичная матрица,\n",
    "- full — массив, заполненный указанной константой,\n",
    "- random — массив, заполненный случайными числами.\n",
    "\n",
    "Полный перечень команд для создания массивов можно посмотреть в документации.\n",
    "\n",
    "Почти все команды принимают в качестве обязательного аргумента форму массива в виде кортежа. Обратите внимание на двойную пару скобок! Первая пара ограничивает аргументы функции, а вторая — это кортеж."
   ]
  },
  {
   "cell_type": "code",
   "execution_count": null,
   "metadata": {
    "collapsed": false
   },
   "outputs": [],
   "source": [
    "a = np.zeros((2, 2))\n",
    "print (a)"
   ]
  },
  {
   "cell_type": "code",
   "execution_count": null,
   "metadata": {
    "collapsed": false
   },
   "outputs": [],
   "source": [
    "b = np.ones((1, 2))\n",
    "print (b)"
   ]
  },
  {
   "cell_type": "code",
   "execution_count": null,
   "metadata": {
    "collapsed": false
   },
   "outputs": [],
   "source": [
    "c = np.full((2, 1), 5.0)\n",
    "print (c)"
   ]
  },
  {
   "cell_type": "code",
   "execution_count": null,
   "metadata": {
    "collapsed": false
   },
   "outputs": [],
   "source": [
    "d = np.eye(3) # Единичная матрица размера 3×3\n",
    "print (d)"
   ]
  },
  {
   "cell_type": "code",
   "execution_count": null,
   "metadata": {
    "collapsed": false
   },
   "outputs": [],
   "source": [
    "e = np.random.random((3, 3))\n",
    "print (e)"
   ]
  },
  {
   "cell_type": "markdown",
   "metadata": {},
   "source": [
    "Если нужен вектор, заполненный числами с некоторым шагом, то полезными могут оказаться функции `arange` и `linspace`. Первая работает аналогично стандартной функции `range` языка Python, а вторая равномерно разбивает отрезок указанным количеством точек."
   ]
  },
  {
   "cell_type": "code",
   "execution_count": null,
   "metadata": {
    "collapsed": false
   },
   "outputs": [],
   "source": [
    "print (np.arange(0, 1, 0.1))\n",
    "print (np.linspace(0, 1, 11))"
   ]
  },
  {
   "cell_type": "markdown",
   "metadata": {},
   "source": [
    "### Индексирование\n",
    "\n",
    "Есть несколько способов получения элементов массива.\n",
    "\n",
    "#### Сечения\n",
    "\n",
    "Команды доступа к элементам не ограничиваются получением значения по индексу. Массивы позволяют получить сразу группу элементов с помощью диапалонов индексов (*сечений*), как это реализовано в списках.\n",
    "\n",
    "Сечение имеет вид: `[начало:конец:шаг]`. *Конец диапазона не включается.* Шаг — необязательный параметр. Если начало или конец совпадают с началом или концом диапазона индексов, то их тоже можно опустить."
   ]
  },
  {
   "cell_type": "code",
   "execution_count": null,
   "metadata": {
    "collapsed": false
   },
   "outputs": [],
   "source": [
    "a = np.array([[1, 2, 3, 4], [5, 6, 7, 8], [9, 10, 11, 12]])\n",
    "print (a)"
   ]
  },
  {
   "cell_type": "code",
   "execution_count": null,
   "metadata": {
    "collapsed": false
   },
   "outputs": [],
   "source": [
    "print (a[:2, 1:3]) # Строки до второй, столбцы от 1 до 2 (т.к. 3 не включается)"
   ]
  },
  {
   "cell_type": "code",
   "execution_count": null,
   "metadata": {
    "collapsed": false
   },
   "outputs": [],
   "source": [
    "print (a[:,::2]) # Все строки, чётные столбцы"
   ]
  },
  {
   "cell_type": "code",
   "execution_count": null,
   "metadata": {
    "collapsed": false
   },
   "outputs": [],
   "source": [
    "print (a[0, :]) # Строка № 0"
   ]
  },
  {
   "cell_type": "markdown",
   "metadata": {},
   "source": [
    "При сечении массива ранг может меняться."
   ]
  },
  {
   "cell_type": "code",
   "execution_count": null,
   "metadata": {
    "collapsed": false
   },
   "outputs": [],
   "source": [
    "print (a[:, 0]) # Столбец № 0 (в виде массива ранга 1)"
   ]
  },
  {
   "cell_type": "code",
   "execution_count": null,
   "metadata": {
    "collapsed": false
   },
   "outputs": [],
   "source": [
    "print (a[:, 0:1]) # Столбец № 0 (в виде массива ранга 2)"
   ]
  },
  {
   "cell_type": "markdown",
   "metadata": {},
   "source": [
    "#### Индексирование массива массивом\n",
    "\n",
    "Если вместо индекса указать массив индексов, то это позволит получить сразу группу интересующих элементов."
   ]
  },
  {
   "cell_type": "code",
   "execution_count": null,
   "metadata": {
    "collapsed": false
   },
   "outputs": [],
   "source": [
    "a = np.array([10, 11, 12, 13, 14, 15, 16])\n",
    "print (a[[2, 4, 5]]) # Элементы с номерами 2, 4, 5"
   ]
  },
  {
   "cell_type": "markdown",
   "metadata": {},
   "source": [
    "#### Индексирование логическими значениями\n",
    "\n",
    "Также массив можно индексировать массивом такой же длины, содержащим только логические значения. Это позволяет задать маску или фильтр: будут отобраны только те элементы, которым соответствует истина."
   ]
  },
  {
   "cell_type": "code",
   "execution_count": null,
   "metadata": {
    "collapsed": false
   },
   "outputs": [],
   "source": [
    "a = np.array([-5, 10, -12, 3])\n",
    "print (a[np.array([True, False, True, False])]) # Отбираем отрицательные числа вручную"
   ]
  },
  {
   "cell_type": "markdown",
   "metadata": {},
   "source": [
    "Маску обычно не задают вручную, а получают её как результат выполнения логических операций."
   ]
  },
  {
   "cell_type": "code",
   "execution_count": null,
   "metadata": {
    "collapsed": false
   },
   "outputs": [],
   "source": [
    "print (a < 0)"
   ]
  },
  {
   "cell_type": "code",
   "execution_count": null,
   "metadata": {
    "collapsed": false
   },
   "outputs": [],
   "source": [
    "print (a[a<0])"
   ]
  },
  {
   "cell_type": "markdown",
   "metadata": {},
   "source": [
    "### Типы данных\n",
    "\n",
    "Каждый массив содержит элементы одного и того же типа. Numpy поддерживает большое количество типов, из которых можно конструировать массивы. Если тип не указан, библиотека пытается «угадать» его. Например, если в конструкторе использовались только целые числа, то и тип будет целочисленным. Но тип можно указать и явно в параметре `dtype`."
   ]
  },
  {
   "cell_type": "code",
   "execution_count": null,
   "metadata": {
    "collapsed": false
   },
   "outputs": [],
   "source": [
    "x = np.array([1, 2])\n",
    "print (x.dtype)"
   ]
  },
  {
   "cell_type": "code",
   "execution_count": null,
   "metadata": {
    "collapsed": false
   },
   "outputs": [],
   "source": [
    "x = np.array([1.0, 2.0])\n",
    "print (x.dtype)"
   ]
  },
  {
   "cell_type": "code",
   "execution_count": null,
   "metadata": {
    "collapsed": false
   },
   "outputs": [],
   "source": [
    "x = np.array([1, 2], dtype=np.float32)\n",
    "print (x.dtype)"
   ]
  },
  {
   "cell_type": "markdown",
   "metadata": {},
   "source": [
    "### Матричная арифметика\n",
    "\n",
    "Массивы поддерживают обычные арифметические операции: сложение, вычитание, умножение и деление. При этом *операции выполняются поэлементно*."
   ]
  },
  {
   "cell_type": "code",
   "execution_count": null,
   "metadata": {
    "collapsed": false
   },
   "outputs": [],
   "source": [
    "A = np.array([[1, 2], [3, -1]])\n",
    "B = np.array([[-3, 2], [-5, 7]])\n",
    "print (A)\n",
    "print () # Пустая строка\n",
    "print (B)"
   ]
  },
  {
   "cell_type": "code",
   "execution_count": null,
   "metadata": {
    "collapsed": false
   },
   "outputs": [],
   "source": [
    "print (A + B)"
   ]
  },
  {
   "cell_type": "code",
   "execution_count": null,
   "metadata": {
    "collapsed": false
   },
   "outputs": [],
   "source": [
    "print (A - B)"
   ]
  },
  {
   "cell_type": "code",
   "execution_count": null,
   "metadata": {
    "collapsed": false
   },
   "outputs": [],
   "source": [
    "print (A * B)"
   ]
  },
  {
   "cell_type": "code",
   "execution_count": null,
   "metadata": {
    "collapsed": false
   },
   "outputs": [],
   "source": [
    "print (A / B)"
   ]
  },
  {
   "cell_type": "markdown",
   "metadata": {},
   "source": [
    "Также есть возможность поэлементно применять математические функции."
   ]
  },
  {
   "cell_type": "code",
   "execution_count": null,
   "metadata": {
    "collapsed": false
   },
   "outputs": [],
   "source": [
    "C = np.array([[1, 2], [3, 4]])\n",
    "print (np.sqrt(C))"
   ]
  },
  {
   "cell_type": "markdown",
   "metadata": {},
   "source": [
    "Для матричного умножения используется либо функция `dot`, либо одноимённый метод."
   ]
  },
  {
   "cell_type": "code",
   "execution_count": null,
   "metadata": {
    "collapsed": false
   },
   "outputs": [],
   "source": [
    "print (np.dot(A, B))"
   ]
  },
  {
   "cell_type": "code",
   "execution_count": null,
   "metadata": {
    "collapsed": false
   },
   "outputs": [],
   "source": [
    "print (A.dot(B))"
   ]
  },
  {
   "cell_type": "markdown",
   "metadata": {},
   "source": [
    "Транспонированную матрицу можно получить при помощи свойства `T`."
   ]
  },
  {
   "cell_type": "code",
   "execution_count": null,
   "metadata": {
    "collapsed": false
   },
   "outputs": [],
   "source": [
    "print (A.T)"
   ]
  },
  {
   "cell_type": "markdown",
   "metadata": {},
   "source": [
    "Однако заметьте, что транспонирование матрицы ранга 1 не меняет её."
   ]
  },
  {
   "cell_type": "code",
   "execution_count": null,
   "metadata": {
    "collapsed": false
   },
   "outputs": [],
   "source": [
    "X = np.array([1, 2, 3])\n",
    "print(X)\n",
    "print(X.T)"
   ]
  },
  {
   "cell_type": "markdown",
   "metadata": {},
   "source": [
    "### Изменение размеров матриц\n",
    "\n",
    "Часто бывает полезно тем или иным образом изменить размеры матрицы. Например, если требуется к каждой строке матрицы $A$ прибавить вектор-строку $v$. В этом случае можно многократно продублировать вектор-строку, превратив её в матрицу, пригодную для сложения с $A$. Это можно сделать с помощью функции `tile`."
   ]
  },
  {
   "cell_type": "code",
   "execution_count": null,
   "metadata": {
    "collapsed": false
   },
   "outputs": [],
   "source": [
    "v = np.array([1, 2, 3])\n",
    "vv = np.tile(v, (4, 1)) # 4 повтора по вертикали и один по горизонтали\n",
    "print (vv)"
   ]
  },
  {
   "cell_type": "markdown",
   "metadata": {},
   "source": [
    "Оказывается полезным и построчное переписывание элементов массива в массив другой формы с помощью функции `reshape`."
   ]
  },
  {
   "cell_type": "code",
   "execution_count": null,
   "metadata": {
    "collapsed": false
   },
   "outputs": [],
   "source": [
    "D1 = np.array([[1, 2, 3], [4, 5, 6]])\n",
    "print (D1)"
   ]
  },
  {
   "cell_type": "code",
   "execution_count": null,
   "metadata": {
    "collapsed": false
   },
   "outputs": [],
   "source": [
    "D2 = np.reshape(D1, (3, 2))\n",
    "print (D2)"
   ]
  },
  {
   "cell_type": "markdown",
   "metadata": {},
   "source": [
    "### Линейная алгебра\n",
    "\n",
    "В подбиблиотеке numpy.linalg находятся полезные функции, для работы с матрицами. Например:\n",
    "\n",
    "- `linalg.cholesky` — разложение Холецкого,\n",
    "- `linalg.qr` — QR-разложение,\n",
    "- `linalg.svd` — сингулярное матричное разложение,\n",
    "- `linalg.eig` — поиск собственных значений и векторов,\n",
    "- `linalg.det` — определитель матрицы,\n",
    "- `linalg.norm` — норма матрицы,\n",
    "- `linalg.inv` — обратная матрица,\n",
    "- `linalg.pinv` — псевдообратная матрица,\n",
    "- `linalg.solve` — решение системы линейных уравнений, заданной в матричном виде.\n",
    "\n",
    "Например, найдём определитель\n",
    "$$\\left|\n",
    "\\begin{array}{cc}\n",
    "1 & 2 \\\\\n",
    "-2 & 3\n",
    "\\end{array}\n",
    "\\right|.$$"
   ]
  },
  {
   "cell_type": "code",
   "execution_count": null,
   "metadata": {
    "collapsed": false
   },
   "outputs": [],
   "source": [
    "A = np.array([[1, 2], [-2, 3]])\n",
    "print(A)"
   ]
  },
  {
   "cell_type": "code",
   "execution_count": null,
   "metadata": {
    "collapsed": false
   },
   "outputs": [],
   "source": [
    "print (np.linalg.det(A))"
   ]
  },
  {
   "cell_type": "markdown",
   "metadata": {},
   "source": [
    "Решим систему уравнений\n",
    "$$\n",
    "\\left\\{\n",
    "\\begin{array}{ll}\n",
    "3x + y &= 2, \\\\\n",
    " x - y &= 3.\n",
    "\\end{array}\n",
    "\\right.\n",
    "$$"
   ]
  },
  {
   "cell_type": "code",
   "execution_count": null,
   "metadata": {
    "collapsed": false
   },
   "outputs": [],
   "source": [
    "A = np.array([[3, 1], [1, -1]])\n",
    "b = np.array([2, 3])\n",
    "x = np.linalg.solve(A, b)\n",
    "print(x)"
   ]
  },
  {
   "cell_type": "markdown",
   "metadata": {},
   "source": [
    "Решение системы уравнений с помощью `solve` вычислительно более выгодно, чем применение обратных матриц, хотя их тоже можно использовать для решения."
   ]
  },
  {
   "cell_type": "markdown",
   "metadata": {},
   "source": [
    "## Библиотка SciPy\n",
    "\n",
    "Выше рассмотрена лишь малая часть множества функций NumPy. И без того богатые возможности этой библиотеки значительно расширяет билиотека SciPy, содержащая следующие основные подбиблиотеки:\n",
    "\n",
    "- `scipy.special` — специальные функции,\n",
    "- `scipy.integrate` — интегрирование,\n",
    "- `scipy.optimize` — оптимизация,\n",
    "- `scipy.interpolate` — интерполяция,\n",
    "- `scipy.fftpack` — преобразование Фурье,\n",
    "- `scipy.signal` — обработка сигналов,\n",
    "- `scipy.linalg` — линейная алгебра,\n",
    "- `scipy.stats` — статистика,\n",
    "- `scipy.io` — файловый ввод/вывод и другие.\n",
    "\n",
    "### Загрузка и сохранение матриц\n",
    "\n",
    "При работе с большими матрицами неудобно объявлять их в программном коде. Также полезно иметь возможность сохранять на диск результаты вычислений, чтобы можно было вернуться к ним в дальнейшем.\n",
    "\n",
    "Одним из популярных форматов хранения матриц на диске являются mat-файлы, используемые в системе Matlab. Файлы этого формата могут хранить несколько матриц как архив. Для работы с ними в библиотеке `scipy.io` предусмотрены функции `loadmat` и `savemat`."
   ]
  },
  {
   "cell_type": "code",
   "execution_count": null,
   "metadata": {
    "collapsed": false
   },
   "outputs": [],
   "source": [
    "A = np.array([[1, 2], [3, 4]])\n",
    "print (A)"
   ]
  },
  {
   "cell_type": "code",
   "execution_count": null,
   "metadata": {
    "collapsed": false
   },
   "outputs": [],
   "source": [
    "import scipy.io as sio\n",
    "sio.savemat ('data.mat', {'A': A}) # Указано имя файла, имя матрицы в архиве и сама матрица"
   ]
  },
  {
   "cell_type": "code",
   "execution_count": null,
   "metadata": {
    "collapsed": false
   },
   "outputs": [],
   "source": [
    "B = sio.loadmat('data.mat')['A'] # Загружаем матрицу под именем A и помещаем в переменную B\n",
    "print (B)"
   ]
  },
  {
   "cell_type": "markdown",
   "metadata": {},
   "source": [
    "### Оптимизация и поиск корней\n",
    "\n",
    "Очень полезна на практике подбиблиотека для оптимизации `scipy.optimize`. В ней реализованы функции для поиска безусловных и условных экстремумов различными методами."
   ]
  },
  {
   "cell_type": "code",
   "execution_count": null,
   "metadata": {
    "collapsed": true
   },
   "outputs": [],
   "source": [
    "import scipy.optimize as so"
   ]
  },
  {
   "cell_type": "markdown",
   "metadata": {},
   "source": [
    "Например, найдём минимум функции $$f(x) = (x - 5)^2 + 3$$ широко распространённым методом Бройдена — Флетчера — Гольдфарба — Шанно (BFGS)."
   ]
  },
  {
   "cell_type": "code",
   "execution_count": null,
   "metadata": {
    "collapsed": false
   },
   "outputs": [],
   "source": [
    "def f(x):\n",
    "    return (x - 5) ** 2 + 3"
   ]
  },
  {
   "cell_type": "code",
   "execution_count": null,
   "metadata": {
    "collapsed": false
   },
   "outputs": [],
   "source": [
    "x_min = so.minimize(f, 0.0, method='BFGS') # 0.0 — начальная точка\n",
    "print (x_min)"
   ]
  },
  {
   "cell_type": "markdown",
   "metadata": {},
   "source": [
    "Точка минимума получилась равной 4.99999999, что близко к правильному значению.\n",
    "\n",
    "Рассмотренный метод — квазиньютоновский и использует для поиска минимума производные, которые по умолчанию находит численно. Можно значительно ускорить вычисления и повысить их точность, записав производную явно.\n",
    "\n",
    "$$f'(x) = 2 (x - 5)$$"
   ]
  },
  {
   "cell_type": "code",
   "execution_count": null,
   "metadata": {
    "collapsed": false
   },
   "outputs": [],
   "source": [
    "def df(x):\n",
    "    return 2 * (x - 5)\n",
    "\n",
    "x_min = so.minimize(f, 0.0, method='BFGS', jac=df) # jac — якобиан, в 1-мерном случае — производная\n",
    "print (x_min)"
   ]
  },
  {
   "cell_type": "markdown",
   "metadata": {},
   "source": [
    "Если требуется найти минимум функции нескольких переменных, то она записывается как функция, принимающая список.\n",
    "\n",
    "Например, найдём минимум функции\n",
    "$$\n",
    "g(x_0, x_1) = (x_0 - 4)^2 + (x_1 - 3)^2.\n",
    "$$"
   ]
  },
  {
   "cell_type": "code",
   "execution_count": null,
   "metadata": {
    "collapsed": false
   },
   "outputs": [],
   "source": [
    "def g(xs):\n",
    "    return (xs[0] - 4)**2 + (xs[1] - 3)**2\n",
    "\n",
    "# Якобиан (если его не использовать, снизится точность и скорость)\n",
    "def dg(xs):\n",
    "    dgdx0 = 2 * (xs[0] - 4)       # Производная по x0\n",
    "    dgdx1 = 2 * (xs[1] - 3)       # Производная по x1\n",
    "    return np.array([dgdx0, dgdx1])\n",
    "    \n",
    "\n",
    "x_min = so.minimize(g, [0.0, 0.0], method='BFGS', jac=dg)\n",
    "print (x_min)"
   ]
  },
  {
   "cell_type": "markdown",
   "metadata": {},
   "source": [
    "Функция `minimize` достаточно универсальна и позволяет находить минимумы функций нескольких переменных с помощью множества других методов, среди которых: `BFGS`, `L-BFGS-B`, `Nelder-Mead`, `Powell`, `CG` (метод сопряжённых градиентов), `COBYLA`, `SLSQP` и другие. Также `minimize` можен решать задачу оптимизации с ограничениями. Имеет смысл ознакомиться с областями применения этих методов для эффективного использования в дальнейшем.\n",
    "\n",
    "В библиотеке есть несколько функций для глобальной оптимизации. Например, в функции `differential_evolution` реализован метод дифференциальной эволюции.\n",
    "\n",
    "Для поиска корней реализовано несколько методов, среди которых  методы: Ньютона — Рафсона, Брента, Бройдена и другие.\n",
    "\n",
    "Все методы для поиска нулей многомерных функций объединены в единой функции `root`. Можно и использовать отдельные функции для методов.\n",
    "\n",
    "Например, найдём корень уравнения $$x^5 + 2x - 10 = 0$$ на отрезке $[-10, 10].$"
   ]
  },
  {
   "cell_type": "code",
   "execution_count": null,
   "metadata": {
    "collapsed": false
   },
   "outputs": [],
   "source": [
    "def f(x):\n",
    "    return x**5 + 2*x - 10"
   ]
  },
  {
   "cell_type": "code",
   "execution_count": null,
   "metadata": {
    "collapsed": false
   },
   "outputs": [],
   "source": [
    "x0 = so.brentq(f, -10, 10)\n",
    "print (x0)"
   ]
  },
  {
   "cell_type": "markdown",
   "metadata": {},
   "source": [
    "Проверим подстановкой."
   ]
  },
  {
   "cell_type": "code",
   "execution_count": null,
   "metadata": {
    "collapsed": false
   },
   "outputs": [],
   "source": [
    "print (f(x0))"
   ]
  },
  {
   "cell_type": "markdown",
   "metadata": {},
   "source": [
    "Получили величину $6{,}57\\times10^{-14}$, близкую к нулю.\n",
    "\n",
    "Библиотека позволяет находить и условные минимумы. Например, функция `linprog` позволяет решать задачу линейного программирования симплексным методом."
   ]
  },
  {
   "cell_type": "markdown",
   "metadata": {},
   "source": [
    "## Библиотека Matplotlib\n",
    "\n",
    "Для построения графиков может использоваться библиотека Matplotlib. У неё очень богатые воможности, не все из которых обычно нужны, поэтому часто пользуются упрощёнными функциями, объявленные в подбиблиотеке `pyplot`. Её можно подключить следующим образом."
   ]
  },
  {
   "cell_type": "code",
   "execution_count": null,
   "metadata": {
    "collapsed": false
   },
   "outputs": [],
   "source": [
    "import matplotlib.pyplot as plt"
   ]
  },
  {
   "cell_type": "markdown",
   "metadata": {},
   "source": [
    "Для того, чтобы графики отображались прямо в документе IPython Notebook нужно выполнить специальную команду."
   ]
  },
  {
   "cell_type": "code",
   "execution_count": null,
   "metadata": {
    "collapsed": false
   },
   "outputs": [],
   "source": [
    "%matplotlib inline"
   ]
  },
  {
   "cell_type": "markdown",
   "metadata": {},
   "source": [
    "Важнейшая функция для построения графиков — функция `plot`, которая похожа на аналогичную команду Matlab. Она строит графики по точкам, абсциссы и ординаты которых заданы двумя векторами."
   ]
  },
  {
   "cell_type": "code",
   "execution_count": null,
   "metadata": {
    "collapsed": false
   },
   "outputs": [],
   "source": [
    "x = np.linspace(0, 6*np.pi, 100)\n",
    "y = np.sin(x)\n",
    "plt.plot(x, y) # Построение графика\n",
    "plt.show()     # Отобразить график"
   ]
  },
  {
   "cell_type": "markdown",
   "metadata": {},
   "source": [
    "У функции можно указать дополнительный параметр, позволяющий указать цвет и тип линии/символов в виде буквенного кода.\n",
    "\n",
    "Например, для отображения графика красными крестиками можно использовать параметр `'xr'` (x — крестик, r — red, красный)."
   ]
  },
  {
   "cell_type": "code",
   "execution_count": null,
   "metadata": {
    "collapsed": false
   },
   "outputs": [],
   "source": [
    "x = np.linspace(0, 6*np.pi, 50)\n",
    "y = np.sin(x)\n",
    "plt.plot(x, y, 'xr')\n",
    "plt.show()"
   ]
  },
  {
   "cell_type": "markdown",
   "metadata": {},
   "source": [
    "Две команды `plot` позволяют получить наложенные графики. Также график, который ещё не отображён с помощью `show` можно модифицировать, добавив подписи осей (`xlabel`, `ylabel`), заголовок (`title`), легенду (`legend`).\n",
    "\n",
    "К сожалению, в шрифте по умолчанию нет букв кириллицы, поэтому нужно с помощью команды `rc` задать другой шрифт."
   ]
  },
  {
   "cell_type": "code",
   "execution_count": null,
   "metadata": {
    "collapsed": true
   },
   "outputs": [],
   "source": [
    "from matplotlib import rc\n",
    "rc('font', family='Verdana')"
   ]
  },
  {
   "cell_type": "code",
   "execution_count": null,
   "metadata": {
    "collapsed": false
   },
   "outputs": [],
   "source": [
    "x = np.linspace(0, 6*np.pi, 100)\n",
    "y1 = np.sin(x)\n",
    "y2 = np.cos(x)\n",
    "\n",
    "plt.plot(x, y1, ':r')\n",
    "plt.plot(x, y2, '-.b')\n",
    "\n",
    "plt.xlabel('x')\n",
    "plt.ylabel('sin(x), cos(x)')\n",
    "\n",
    "plt.legend(['Синус', 'Косинус']) # Названия в порядке отображения графиков\n",
    "\n",
    "plt.title('Синус и косинус')\n",
    "\n",
    "plt.show()"
   ]
  },
  {
   "cell_type": "markdown",
   "metadata": {},
   "source": [
    "Если нужно разбить график на части, то перед командами `plot` каждой части выполняется команда `subplot`. Её аргументы — количество строк, количество столбцов и номер части в разбиении. Например, если нужно разбить график вертикально, то получаем «таблицу» из двух строк и одного столбца, в ячейках которой располагаются графики. Поэтому параметрами команды будут `(2, 1, 1)` и `(2, 1, 2)`."
   ]
  },
  {
   "cell_type": "code",
   "execution_count": null,
   "metadata": {
    "collapsed": false
   },
   "outputs": [],
   "source": [
    "x = np.linspace(0, 6*np.pi, 100)\n",
    "y1 = np.sin(x)\n",
    "y2 = np.cos(x)\n",
    "\n",
    "plt.subplot(2,1,1)\n",
    "plt.plot(x, y1)\n",
    "\n",
    "plt.subplot(2,1,2)\n",
    "plt.plot(x, y2)\n",
    "\n",
    "plt.show()"
   ]
  },
  {
   "cell_type": "markdown",
   "metadata": {},
   "source": [
    "## Библиотека Pandas\n",
    "\n",
    "С «сырыми» данными в виде матриц работать не всегда удобно. Например, если данные о квартирах записаны в виде матрицы, где разные столбцы соответствуют разным параметрам (цена, площадь и т. д.), то нужно помнить, какой столбец чему соответствует.\n",
    "\n",
    "Библиотека Pandas позволяет работать со структурированными данными. Например, с её помощью можно пометить столбцы в матрице.\n",
    "\n",
    "Для начала подключим библиотеку."
   ]
  },
  {
   "cell_type": "code",
   "execution_count": null,
   "metadata": {
    "collapsed": false
   },
   "outputs": [],
   "source": [
    "import pandas as pd"
   ]
  },
  {
   "cell_type": "markdown",
   "metadata": {},
   "source": [
    "Контейнером, содержищим размеченные данные являются объекты типа `DataFrame`. Элементами такого контейнера (фрейма) могут быть последовательности (`Series`), категории (произвольные классы, `Categorical`), массивы Numpy т. д.\n",
    "\n",
    "Например, рассмотрим фрейм, содержащий информацию о покупках квартир."
   ]
  },
  {
   "cell_type": "code",
   "execution_count": null,
   "metadata": {
    "collapsed": false
   },
   "outputs": [],
   "source": [
    "apartments = pd.DataFrame(\n",
    "    {\n",
    "        'Дата': pd.Series([pd.Timestamp('2012-03-11'), pd.Timestamp('2014-12-26'), pd.Timestamp('2013-05-18')]),\n",
    "        'Число комнат': [2, 3, 2],\n",
    "        'Стоимость': np.array([17000, 24000, 18000]),\n",
    "        'Район': pd.Categorical(['Центр', 'Западный', 'Центр'])\n",
    "    }\n",
    ")"
   ]
  },
  {
   "cell_type": "markdown",
   "metadata": {},
   "source": [
    "Фреймы удобно просматривать с помощью команды `print`. Если данных много, то можно использовать методы `head` (первые строки) и `tail` (последние строки)."
   ]
  },
  {
   "cell_type": "code",
   "execution_count": null,
   "metadata": {
    "collapsed": false
   },
   "outputs": [],
   "source": [
    "print(apartments)"
   ]
  },
  {
   "cell_type": "code",
   "execution_count": null,
   "metadata": {
    "collapsed": false
   },
   "outputs": [],
   "source": [
    "print(apartments.head())"
   ]
  },
  {
   "cell_type": "markdown",
   "metadata": {},
   "source": [
    "В среде разработки IPython можно не писать `print`, если ячейка с кодом содержит только имя объекта. Библиотека распознаёт такую ситуацию, и в этом случае фрейм выводится оформленным в виде таблицы."
   ]
  },
  {
   "cell_type": "code",
   "execution_count": null,
   "metadata": {
    "collapsed": false
   },
   "outputs": [],
   "source": [
    "apartments"
   ]
  },
  {
   "cell_type": "markdown",
   "metadata": {},
   "source": [
    "Если нужны определённые столбцы, то можно индексировать фрейм их именами. Свойство `values` позволяет получить результат не в виде массива Numpy, а не в виде нового фрейма."
   ]
  },
  {
   "cell_type": "code",
   "execution_count": null,
   "metadata": {
    "collapsed": false
   },
   "outputs": [],
   "source": [
    "print(apartments[['Стоимость', 'Число комнат']].values)"
   ]
  },
  {
   "cell_type": "markdown",
   "metadata": {},
   "source": [
    "Библиотека содержит богатые средства анализа данных. Можно посмотреть как основные статистические характеристики (метод `describe`), так и делать выборки по столбцам, строкам, анализировать их параметры, делать запросы к нескольким таблицам сразу."
   ]
  },
  {
   "cell_type": "code",
   "execution_count": null,
   "metadata": {
    "collapsed": false
   },
   "outputs": [],
   "source": [
    "apartments.describe()"
   ]
  },
  {
   "cell_type": "markdown",
   "metadata": {},
   "source": [
    "С помощью библиотеки легко строить зависимости одной величины от другой."
   ]
  },
  {
   "cell_type": "code",
   "execution_count": null,
   "metadata": {
    "collapsed": false
   },
   "outputs": [],
   "source": [
    "apartments.plot('Дата', 'Стоимость')\n",
    "plt.show()"
   ]
  },
  {
   "cell_type": "markdown",
   "metadata": {},
   "source": [
    "Большие объёмы данных, разумеется, не вводятся вручную, как в рассмотренном выше примере. Библиотека поддерживает загрузку и сохранение данных во многих распространённых форматах:\n",
    "- CSV (текствые документы, с данными разделёнными «,» или «;»),\n",
    "- HDF5 (один из самых распространённых форматов хранения больших объёмов цифровых данных),\n",
    "- Excel (файлы в формате xlsx) и другие.\n",
    "\n",
    "Также есть возможность получать данные в виде SQL-запросов к СУБД. Для сохранения в некоторые форматы могут потребоваться дополнительные библиотеки.\n",
    "\n",
    "Для примера сохраним рассмотренный фрейм в различных форматах."
   ]
  },
  {
   "cell_type": "code",
   "execution_count": null,
   "metadata": {
    "collapsed": false
   },
   "outputs": [],
   "source": [
    "apartments.to_csv('apartments.csv')\n",
    "apartments.to_excel('apartments.xlsx', sheet_name='Квартиры') # Параметр sheet_name задаёт имя листа\n",
    "apartments.to_html('apartments.html')"
   ]
  },
  {
   "cell_type": "markdown",
   "metadata": {},
   "source": [
    "Для загрузки данных, например, из документа Excel нужно использовать метод `read_excel`."
   ]
  },
  {
   "cell_type": "code",
   "execution_count": null,
   "metadata": {
    "collapsed": false
   },
   "outputs": [],
   "source": [
    "apts = pd.read_excel('apartments.xlsx', 'Квартиры')"
   ]
  },
  {
   "cell_type": "code",
   "execution_count": null,
   "metadata": {
    "collapsed": false
   },
   "outputs": [],
   "source": [
    "apts"
   ]
  },
  {
   "cell_type": "markdown",
   "metadata": {},
   "source": [
    "## Источники\n",
    "Подробную информацию о рассмотренных библиотеках можно найти в следующих источниках.\n",
    "\n",
    "1. [Getting started with Python for science (англ.)](https://scipy-lectures.github.io/intro/index.html)\n",
    "* [NumPy — Документация (англ.)](http://docs.scipy.org/doc/numpy/reference/)\n",
    "* [SciPy — Документация (англ.)](http://docs.scipy.org/doc/scipy/reference/)\n",
    "* [Matplotlib — Документация (англ.)](http://matplotlib.org/contents.html)\n",
    "* [NumPy, пособие для новичков](http://habrahabr.ru/post/121031/)\n",
    "* [Серия статей о NumPy](http://pythonworld.ru/numpy)\n",
    "* [10 Minutes to pandas](http://pandas.pydata.org/pandas-docs/stable/10min.html)"
   ]
  },
  {
   "cell_type": "markdown",
   "metadata": {},
   "source": [
    "## Задание для самостоятельного выполнения\n",
    "\n",
    "1. Объявить следующие матрицы и векторы:\n",
    "$$A = \\left(\n",
    "\\begin{array}{rrr}\n",
    "1 & 2 & 3\\\\\n",
    "-2 & 3 & 0\\\\\n",
    "5 & 1 & 4\n",
    "\\end{array}\n",
    "\\right),\n",
    "B = \\left(\n",
    "\\begin{array}{rrr}\n",
    "1 & 2 & 3\\\\\n",
    "2 & 4 & 6\\\\\n",
    "3 & 7 & 2\n",
    "\\end{array}\n",
    "\\right),\n",
    "u = \\left(\n",
    "\\begin{array}{r}\n",
    "-4\\\\\n",
    "1\\\\\n",
    "1\\end{array}\n",
    "\\right),\n",
    "v = \\left(\n",
    "\\begin{array}{r}\n",
    "3\\\\\n",
    "2\\\\\n",
    "10\\end{array}\n",
    "\\right).\n",
    "$$\n",
    "* Объявить случайную матрицу $C$ (100x100) и случайный вектор $w$ (100×1).\n",
    "* Вычислить выражения (здесь умножение матричное)\n",
    "$$A + B, AB, A^3, ABA, v^TA^T(u+2v), u\\cdot v, Cw, w^TC.$$\n",
    "* Построить матрицу размера $20×20$, элементы которой равны произведениям индексов. Как это сделать без использования циклов?\n",
    "* Сохранить матрицы и векторы в один общий файл. Для проверки загрузить матрицы из файла.\n",
    "* Найти сумму положительных элементов матриц $A$ и $B$.\n",
    "* Записать элементы матрицы $A$ в одну строку и выбрать из них только стоящие на чётных позициях.\n",
    "* Найти обратные и псевдообратные матрицы для $A$, $B$ и $С$. Проверить правильность вычислений умножением.\n",
    "* Решить систему уравнений\n",
    "$$\n",
    "\\left\\{\n",
    "\\begin{array}{rrrr}\n",
    "32x_1  &+7x_2  &-6x_3 &= 12, \\\\\n",
    "-5x_1  &-20x_2 &+3x_3 &= 3, \\\\\n",
    "       & x_2   &-3x_3 &= 7.\n",
    "\\end{array}\n",
    "\\right.\n",
    "$$\n",
    "Проверить решение подстановкой.\n",
    "* Найти собственные значения и собственные векторы матриц $A$ и $B$. (Если для некоторой матрицы $M$ выполняется условие $Mx=\\lambda x,$ то вектор $x$ и число $\\lambda$ называются собственными вектором и числом матрицы.)\n",
    "* Найти минимумы функций\n",
    "$$f_1(x) = 5(x-2)^4 - \\frac1{x^2+8},$$\n",
    "$$f_2(x_1, x_2) = 4(x_1-3x_2)^2+7x_1^4.$$\n",
    "* Построить графики функций в одной системе координат\n",
    "$$g_1(x)=x^5-2x^4+3x-7,$$\n",
    "$$g_2(x)=x^5+2x^4-3x-7.$$\n",
    "Подписать оси, указать заголовок и отобразить легенду.\n",
    "* Построить графики этих же функций в двух системах координат: одна слева, другая справа.\n",
    "* Найти по одному из нулей каждой из функций $g_1$ и $g_2$."
   ]
  }
 ],
 "metadata": {
  "kernelspec": {
   "display_name": "Python 3",
   "language": "python",
   "name": "python3"
  },
  "language_info": {
   "codemirror_mode": {
    "name": "ipython",
    "version": 3
   },
   "file_extension": ".py",
   "mimetype": "text/x-python",
   "name": "python",
   "nbconvert_exporter": "python",
   "pygments_lexer": "ipython3",
   "version": "3.5.2+"
  }
 },
 "nbformat": 4,
 "nbformat_minor": 0
}
