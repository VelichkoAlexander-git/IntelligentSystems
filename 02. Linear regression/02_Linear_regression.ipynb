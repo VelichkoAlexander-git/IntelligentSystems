{
  "nbformat": 4,
  "nbformat_minor": 0,
  "metadata": {
    "kernelspec": {
      "display_name": "Python 3",
      "language": "python",
      "name": "python3"
    },
    "language_info": {
      "codemirror_mode": {
        "name": "ipython",
        "version": 3
      },
      "file_extension": ".py",
      "mimetype": "text/x-python",
      "name": "python",
      "nbconvert_exporter": "python",
      "pygments_lexer": "ipython3",
      "version": "3.4.3+"
    },
    "colab": {
      "name": "02. Linear regression.ipynb",
      "provenance": [],
      "collapsed_sections": [],
      "toc_visible": true
    }
  },
  "cells": [
    {
      "cell_type": "markdown",
      "metadata": {
        "id": "3KFh2L7pqwXi"
      },
      "source": [
        "# 2. Линейная регрессия\n",
        "\n",
        "**Цель работы**: Изучить основные понятия машинного обучения, исследовать методы решения задачи регрессии, применить полученные знания для решения практических задач."
      ]
    },
    {
      "cell_type": "markdown",
      "metadata": {
        "id": "JM1WxmAIqwXn"
      },
      "source": [
        "## Регрессия\n",
        "\n",
        "### Обучающая выборка\n",
        "\n",
        "Задача регрессии заключается в поиске зависимости некоторой переменной $y$ от другой переменной $x$. При этом переменная $x$ может быть векторной.\n",
        "\n",
        "$$x=(x_1, x_2, \\dots, x_n).$$\n",
        "\n",
        "В этом случае говорят о *множественной регрессии*. В противном случае, если $x$ — скаляр, регрессию называют *парной*.\n",
        "\n",
        "Компоненты $x_j$ называются *признаками*.\n",
        "\n",
        "Набор данных, который используется для восстановления зависимости называется *обучающей выборкой*. Она представляет собой пару $(X, Y)$, где\n",
        "\n",
        "$$X = \n",
        "\\left(\n",
        "\\begin{array}%\n",
        "x^{(1)}\\\\\n",
        "x^{(2)}\\\\\n",
        "\\vdots\\\\\n",
        "x^{(m)}\\\\\n",
        "\\end{array}\n",
        "\\right) = \n",
        "\\left(\n",
        "\\begin{array}%\n",
        "x^{(1)}_1&x^{(1)}_2&\\dots&x^{(1)}_n\\\\\n",
        "x^{(2)}_1&x^{(2)}_2&\\dots&x^{(2)}_n\\\\\n",
        "\\vdots&\\vdots&\\ddots&\\vdots\\\\\\\n",
        "x^{(m)}_1&x^{(m)}_2&\\dots&x^{(m)}_n\\\\\n",
        "\\end{array}\n",
        "\\right),\n",
        "Y = \n",
        "\\left(\n",
        "\\begin{array}%\n",
        "y^{(1)}\\\\\n",
        "y^{(2)}\\\\\n",
        "\\vdots\\\\\n",
        "y^{(m)}\\\\\n",
        "\\end{array}\n",
        "\\right).\n",
        "$$\n",
        "\n",
        "Пара $(x^{(i)}, y^{(i)})$ называется *прецедентом*."
      ]
    },
    {
      "cell_type": "markdown",
      "metadata": {
        "collapsed": true,
        "id": "qWDRKJfzqwXp"
      },
      "source": [
        "### Линейная регрессия\n",
        "\n",
        "Простейший случай регрессии — линейная регрессия. В ней искомая зависимость описывается линейной функцией.\n",
        "\n",
        "$$h_{\\theta}(x) = \\theta_0 + \\theta_1 x_1 + \\theta_2 x_2 + \\dots + \\theta_n x_n = \\theta_0 + \\sum_{j=1}^n\\theta_jx_j.$$\n",
        "\n",
        "Здесь $h_{\\theta}(x)$ — обучаемая (в данном случае линейная) модель описывающая зависимость $y$ от $x$. Параметры $\\theta_j$ — параметры модели, а $\\theta$ — вектор параметров.\n",
        "\n",
        "$$\\theta = \\left(\n",
        "\\begin{array}%\n",
        "\\theta_0\\\\\n",
        "\\theta_1\\\\\n",
        "\\theta_2\\\\\n",
        "\\vdots\\\\\n",
        "\\theta_n\\\\\n",
        "\\end{array}\n",
        "\\right).\n",
        "$$\n",
        "\n",
        "Для упрощения записи выражений можно ввести фиктивный признак \n",
        "\n",
        "$$x_0 \\equiv 1.$$\n",
        "\n",
        "Этот признак добавляется к исходным данным как столбец из 1 в матрице $X$.\n",
        "\n",
        "Тогда модель записывается как скалярное произведение\n",
        "\n",
        "$$h_{\\theta}(x) = \\sum_{j=1}^m x_j \\theta_j = x \\theta.$$\n",
        "\n",
        "Значения, предсказанные моделью для каждого набора признаком из обучающей выборки можно вычислить аналогично.\n",
        "\n",
        "$$h_{\\theta}(X) = X \\theta.$$\n",
        "\n",
        "В этом случае получаем вектор-столбец со значениями $h_{\\theta}(x^{(i)})$ для всех $i$."
      ]
    },
    {
      "cell_type": "markdown",
      "metadata": {
        "collapsed": true,
        "id": "qDP4YucaqwXq"
      },
      "source": [
        "### Функция потерь\n",
        "\n",
        "Параметры $\\theta$ выбираются таким образом, чтобы минимизировать ошибку между предсказанными ($h_{\\theta}(X)$) и известными в обучающей выборке ($Y$) значениями.\n",
        "\n",
        "Часто в качестве меры такой ошибки берут среднеквадратическое отклонение.\n",
        "\n",
        "$$J(\\theta) = \\frac1{2m}\\sum_{i=1}^{m}\\left[h_{\\theta}(x^{(i)})-y^{(i)}\\right]^2$$\n",
        "\n",
        "Функция $J(\\theta)$ называется *функцией потерь*.\n",
        "\n",
        "Тогда параметры модели находят как аргумент минимума функции потерь\n",
        "\n",
        "$$\\theta = \\arg\\min_{\\theta}J(\\theta).$$"
      ]
    },
    {
      "cell_type": "markdown",
      "metadata": {
        "id": "f9ktM0agqwXr"
      },
      "source": [
        "## Задание\n",
        "\n",
        "В настоящей лабораторной работе требуется решить задачу поиска оптимального ветора $\\theta$ с помощью следующих методов:\n",
        "\n",
        "- нормальное уравнение,\n",
        "- метод градиентного спуска,\n",
        "- метод BFGS (алгоритм реализован в библиотеке SciPy).\n",
        "\n",
        "Дополнительное задание: попробуйте нормировать исходные данные. Не забудьте сохранить параметры, с которыми выполнялась нормализация (среднее значение и разброс)."
      ]
    },
    {
      "cell_type": "markdown",
      "metadata": {
        "id": "T9LYQWpsqwXs"
      },
      "source": [
        "## Подготовка библиотек"
      ]
    },
    {
      "cell_type": "code",
      "metadata": {
        "collapsed": true,
        "id": "y6iBx4COqwXs"
      },
      "source": [
        "import numpy as np\n",
        "import scipy.io as sio\n",
        "import scipy.optimize as so\n",
        "import matplotlib.pyplot as plt\n",
        "%matplotlib inline\n",
        "from matplotlib import rc\n",
        "rc('font', family='Verdana')"
      ],
      "execution_count": 645,
      "outputs": []
    },
    {
      "cell_type": "markdown",
      "metadata": {
        "id": "gXudfo5yqwXt"
      },
      "source": [
        "## Задача 1. Зависимость роста от возраста\n",
        "\n",
        "Требуется найти зависимость роста (в метрах) от возраста (в годах) детей.\n",
        "\n",
        "Загрузим обучающую выборку."
      ]
    },
    {
      "cell_type": "code",
      "metadata": {
        "scrolled": false,
        "colab": {
          "base_uri": "https://localhost:8080/",
          "height": 295
        },
        "id": "wlDw2yysqwXt",
        "outputId": "46f6fc2e-b1a2-4737-a848-75b1c9cd2c92"
      },
      "source": [
        "data = sio.loadmat('heights.mat')\n",
        "Xdata = data['age']\n",
        "ydata = data['height']\n",
        "\n",
        "# Xp, Yp задают линию, которая будет отображена на графике поверх данных\n",
        "def plot_data(X, y, Xp=None, yp=None):\n",
        "    plt.plot(X, y, 'xr')\n",
        "    if Xp is not None and yp is not None:\n",
        "        plt.plot(Xp, yp, '-b')\n",
        "    plt.xlabel('Возраст, лет')\n",
        "    plt.ylabel('Рост, м')\n",
        "    plt.title('Зависимость роста от возраста')\n",
        "    plt.show()\n",
        "\n",
        "plot_data(Xdata, ydata)"
      ],
      "execution_count": 692,
      "outputs": [
        {
          "output_type": "display_data",
          "data": {
            "image/png": "[encoded data removed]",
            "text/plain": [
              "<Figure size 432x288 with 1 Axes>"
            ]
          },
          "metadata": {
            "tags": [],
            "needs_background": "light"
          }
        }
      ]
    },
    {
      "cell_type": "markdown",
      "metadata": {
        "id": "z-JvC7zXqwXu"
      },
      "source": [
        "Введём вспомогательные величины: $m$ — число прецедентов, $n$ — номер последнего признака. (В функциях ими пользоваться нежелательно, так как функции должны быть как можно более изолированы от остального кода.)"
      ]
    },
    {
      "cell_type": "code",
      "metadata": {
        "collapsed": true,
        "id": "FViy5QU6qwXv"
      },
      "source": [
        "m, n = Xdata.shape"
      ],
      "execution_count": 693,
      "outputs": []
    },
    {
      "cell_type": "markdown",
      "metadata": {
        "id": "IxKAjdYHqwXv"
      },
      "source": [
        "Добавим к матрице $X$ слева столбец из единиц с помощью функции `np.concatenate`. Не забудьте в дальнейшем при расчётах использовать матрицу `X1` вместо `X`."
      ]
    },
    {
      "cell_type": "code",
      "metadata": {
        "id": "yGr_yd8JqwXw"
      },
      "source": [
        "Xdata1 = np.concatenate([np.ones((m,1)), Xdata], axis=1)"
      ],
      "execution_count": 694,
      "outputs": []
    },
    {
      "cell_type": "markdown",
      "metadata": {
        "id": "CiFWU9TwqwXw"
      },
      "source": [
        "Запишите выражение для модели $h_{\\theta}(x)$.\n",
        "\n",
        "$x$ может быть как вектор-строкой размера $1\\times (n+1)$, так и матрицей (то есть набором вектор-строк).\n",
        "\n",
        "$\\theta$ — вектор-столбец размера $(n+1)\\times 1$.\n",
        "\n",
        "Функция должна возвращать предсказанное значение для каждой строки параметра `X`."
      ]
    },
    {
      "cell_type": "code",
      "metadata": {
        "collapsed": true,
        "id": "lkCFCwCgqwXw"
      },
      "source": [
        "def h(X, theta):\n",
        "    # Проверки входных данных\n",
        "    assert len(X.shape) == 2, \"X — матрица?\"\n",
        "    assert X.shape[1] == n+1, \"Неверный размер матрицы X. Забыли столбец из 1?\" \n",
        "    assert theta.shape == (n+1, 1), \"Неверный размер матрицы theta\"\n",
        "    \n",
        "    # ИСПРАВЬТЕ ИЛИ ДОПОЛНИТЕ КОД НИЖЕ\n",
        "    h = X.dot(theta)\n",
        "    return h\n",
        "    ###"
      ],
      "execution_count": 695,
      "outputs": []
    },
    {
      "cell_type": "markdown",
      "metadata": {
        "id": "Le4X_CcWqwXx"
      },
      "source": [
        "Проверим работу функции для прямой пропорциональности. Параметры $\\theta$ выбраны произвольно и не соответствуют искомому решению."
      ]
    },
    {
      "cell_type": "code",
      "metadata": {
        "colab": {
          "base_uri": "https://localhost:8080/",
          "height": 295
        },
        "id": "V9Y-wxQwqwXx",
        "outputId": "4990f8e5-b8fd-4dfb-d94c-5d7cc896db4a"
      },
      "source": [
        "theta = np.array([[0.75], [0.08]])\n",
        "yp = h(Xdata1, theta) # Предсказанные значения\n",
        "plot_data(Xdata, ydata, Xdata, yp)"
      ],
      "execution_count": 696,
      "outputs": [
        {
          "output_type": "display_data",
          "data": {
            "image/png": "[encoded data removed]",
            "text/plain": [
              "<Figure size 432x288 with 1 Axes>"
            ]
          },
          "metadata": {
            "tags": [],
            "needs_background": "light"
          }
        }
      ]
    },
    {
      "cell_type": "markdown",
      "metadata": {
        "id": "-tOv8czaqwXy"
      },
      "source": [
        "### Нормальное уравнение\n",
        "Найдём $\\theta$ с помощью нормального уравнения."
      ]
    },
    {
      "cell_type": "code",
      "metadata": {
        "collapsed": true,
        "id": "0cZBo9_eqwXy"
      },
      "source": [
        "# ИСПРАВЬТЕ ИЛИ ДОПОЛНИТЕ КОД НИЖЕ\n",
        "x = np.array([Xdata[:,0]])\n",
        "y = np.array([ydata[:,0]]).T\n",
        "x = np.vstack((np.ones_like(x), x)).T\n",
        "\n",
        "one = np.linalg.pinv(np.dot(x.T, x))\n",
        "two = np.dot(x.T, y)\n",
        "theta_norm = np.dot(one, two)\n",
        "###"
      ],
      "execution_count": 697,
      "outputs": []
    },
    {
      "cell_type": "markdown",
      "metadata": {
        "id": "Yv-RCkqXqwXz"
      },
      "source": [
        "Графически оценим результаты вычислений."
      ]
    },
    {
      "cell_type": "code",
      "metadata": {
        "colab": {
          "base_uri": "https://localhost:8080/",
          "height": 329
        },
        "id": "r8GLLvkcqwXz",
        "outputId": "334bde2d-d575-4bc6-fb2e-5a2c547b58e5"
      },
      "source": [
        "print(theta_norm)\n",
        "yp = h(x, theta_norm) # Предсказанные значения\n",
        "plot_data(Xdata, ydata, Xdata, yp)"
      ],
      "execution_count": 698,
      "outputs": [
        {
          "output_type": "stream",
          "text": [
            "[[0.75016254]\n",
            " [0.06388117]]\n"
          ],
          "name": "stdout"
        },
        {
          "output_type": "display_data",
          "data": {
            "image/png": "[encoded data removed]",
            "text/plain": [
              "<Figure size 432x288 with 1 Axes>"
            ]
          },
          "metadata": {
            "tags": [],
            "needs_background": "light"
          }
        }
      ]
    },
    {
      "cell_type": "code",
      "metadata": {
        "id": "r-K7k8PnC1C-"
      },
      "source": [
        "yp_norm = yp"
      ],
      "execution_count": 357,
      "outputs": []
    },
    {
      "cell_type": "markdown",
      "metadata": {
        "id": "hLvHeakPqwXz"
      },
      "source": [
        "### Градиентный спуск\n",
        "\n",
        "Найдём $\\theta$ методом градиентного спуска. Для этого определим функции `J` и `dJ`, соответствующие функции потерь и вектору градиента.\n",
        "\n",
        "Функция `J` принимает на входе как вектор-столбец параметров `theta`, так и данные обучающей выборки — `X` и `y`. Функция должна вернуть число, характеризующее среднюю ошибку предсказанного моделью значения от истинного."
      ]
    },
    {
      "cell_type": "code",
      "metadata": {
        "collapsed": true,
        "id": "7GS9SrcuqwX0"
      },
      "source": [
        "def J(theta, X, y):\n",
        "    # Проверки входных данных\n",
        "    assert len(X.shape) == 2, \"X — матрица?\"\n",
        "    assert X.shape[1] == n+1, \"Неверный размер матрицы X. Забыли столбец из 1?\" \n",
        "    assert X.shape[0] == y.shape[0], \"Разное количество выходных и входных переменных\"\n",
        "    assert theta.shape == (n+1, 1), \"Неверный размер матрицы theta\"\n",
        "    \n",
        "    # ИСПРАВЬТЕ ИЛИ ДОПОЛНИТЕ КОД НИЖЕ\n",
        "    J = (1/(2*m)) * ((h(X, theta) - y) ** 2).sum()\n",
        "    return J\n",
        "    ###"
      ],
      "execution_count": 411,
      "outputs": []
    },
    {
      "cell_type": "markdown",
      "metadata": {
        "id": "qeqMlb1QqwX0"
      },
      "source": [
        "Параметры функции, вычисляющей градиент, те же, но она должна вернуть вектор-столбец со значениями производной $\\frac{\\partial J(\\theta)}{\\partial\\theta_j}$ по каждому из параметров $\\theta_j$. Этот вектор-столбец, очевидно, должен иметь те же размеры, что и вектор $\\theta$."
      ]
    },
    {
      "cell_type": "code",
      "metadata": {
        "collapsed": true,
        "id": "_ZEivKA0qwX1"
      },
      "source": [
        "def dJ(theta, X, y):\n",
        "    # Проверки входных данных\n",
        "    assert len(X.shape) == 2, \"X — матрица?\"\n",
        "    assert X.shape[1] == n+1, \"Неверный размер матрицы X. Забыли столбец из 1?\" \n",
        "    assert X.shape[0] == y.shape[0], \"Разное количество выходных и входных переменных\"\n",
        "    assert theta.shape == (n+1, 1), \"Неверный размер матрицы theta\"\n",
        "    \n",
        "    # ИСПРАВЬТЕ ИЛИ ДОПОЛНИТЕ КОД НИЖЕ\n",
        "    solveJ = np.zeros((2, 1))\n",
        "    solve = h(X, theta) - y\n",
        "    solveJ[0][0] = (1/m) *  solve.sum()\n",
        "    solveJ[1][0] = (1/m) *  X.T.dot(solve).sum()\n",
        "    return solveJ\n",
        "    ###"
      ],
      "execution_count": 495,
      "outputs": []
    },
    {
      "cell_type": "markdown",
      "metadata": {
        "id": "D--dz2FxqwX1"
      },
      "source": [
        "Сам градиентный спуск выполняется достаточно просто: выполняются шаги в сторону, противоположную направлению градиента, пока его норма не станет достаточно малой (то есть, не станет меньше некоторого $\\varepsilon$). Конечно, за простоту приходится платить — более совершенные методы точнее и быстрее сходятся.\n",
        "\n",
        "Для работы метода необходимо правильно подобрать параметры $\\varepsilon$ (параметр, управляющей точностью) и $\\alpha$ (коэффициент шага градиентного спуска)."
      ]
    },
    {
      "cell_type": "code",
      "metadata": {
        "collapsed": true,
        "id": "uk5JFDG8qwX2"
      },
      "source": [
        "eps = 0.01\n",
        "# НАЙДИТЕ ОПТИМАЛЬНОЕ ЗНАЧЕНИЕ КОЭФФИЦИЕНТА alpha\n",
        "alpha = 0.01"
      ],
      "execution_count": 395,
      "outputs": []
    },
    {
      "cell_type": "markdown",
      "metadata": {
        "collapsed": true,
        "id": "boiQe8uLqwX2"
      },
      "source": [
        "Основной алгоритм выглядит следующим образом.\n",
        "\n",
        "В массиве `norms` накапливаются значения нормы на каждом шаге цикла. Они нужны для точной «подстройки» парметра $\\alpha$.\n",
        "\n",
        "Если число итераций превышает `Kmax`, алгоритм завершается принудительно."
      ]
    },
    {
      "cell_type": "code",
      "metadata": {
        "id": "U6CqGsSOqwX3"
      },
      "source": [
        "k, Kmax = 0, 1000000\n",
        "norms = []\n",
        "\n",
        "# Инициализация\n",
        "theta_grad = np.zeros((n+1, 1))\n",
        "while True:\n",
        "    d = dJ(theta_grad, Xdata1, ydata) # Текущее значение градиента\n",
        "    \n",
        "    norm = np.linalg.norm(d)\n",
        "    norms.append(norm)\n",
        "    k += 1\n",
        "    if k > Kmax or norm < eps: break\n",
        "\n",
        "    # Один шаг градиентного спуска\n",
        "    # ИСПРАВЬТЕ ИЛИ ДОПОЛНИТЕ КОД НИЖЕ\n",
        "    theta_grad = theta_grad - alpha*d\n",
        "    ###"
      ],
      "execution_count": 396,
      "outputs": []
    },
    {
      "cell_type": "markdown",
      "metadata": {
        "id": "ChB1uZGNqwX3"
      },
      "source": [
        "Построим график изменений нормы градиента в зависимости от номера итерации."
      ]
    },
    {
      "cell_type": "code",
      "metadata": {
        "colab": {
          "base_uri": "https://localhost:8080/",
          "height": 265
        },
        "id": "j5SfUSNMqwX4",
        "outputId": "4005d5d5-d78b-4eb6-9527-6232c7269cfe"
      },
      "source": [
        "plt.plot(norms)\n",
        "plt.show()"
      ],
      "execution_count": 397,
      "outputs": [
        {
          "output_type": "display_data",
          "data": {
            "image/png": "[encoded data removed]",
            "text/plain": [
              "<Figure size 432x288 with 1 Axes>"
            ]
          },
          "metadata": {
            "tags": [],
            "needs_background": "light"
          }
        }
      ]
    },
    {
      "cell_type": "markdown",
      "metadata": {
        "collapsed": true,
        "id": "vb5ZhNBdqwX4"
      },
      "source": [
        "Графически оценим результаты вычислений."
      ]
    },
    {
      "cell_type": "code",
      "metadata": {
        "colab": {
          "base_uri": "https://localhost:8080/",
          "height": 329
        },
        "id": "SAXTuYfNqwX4",
        "outputId": "5e00b2c5-76be-4fe5-abe8-e1616914bc3c"
      },
      "source": [
        "print (theta_grad)\n",
        "yp = h(Xdata1, theta_grad) # Предсказанные значения\n",
        "plot_data(Xdata, ydata, Xdata, yp)"
      ],
      "execution_count": 398,
      "outputs": [
        {
          "output_type": "stream",
          "text": [
            "[[0.63929668]\n",
            " [0.08440305]]\n"
          ],
          "name": "stdout"
        },
        {
          "output_type": "display_data",
          "data": {
            "image/png": "[encoded data removed]",
            "text/plain": [
              "<Figure size 432x288 with 1 Axes>"
            ]
          },
          "metadata": {
            "tags": [],
            "needs_background": "light"
          }
        }
      ]
    },
    {
      "cell_type": "code",
      "metadata": {
        "id": "UAY5J82yDMF9"
      },
      "source": [
        "yp_grad = yp"
      ],
      "execution_count": 371,
      "outputs": []
    },
    {
      "cell_type": "markdown",
      "metadata": {
        "id": "xp9ZoEYHqwX5"
      },
      "source": [
        "### Метод Бройдена — Флетчера — Гольдфарба — Шанно (BFGS)\n",
        "\n",
        "Этот метод реализован в функции `sp.optimize.minimize`. Воспользуемся им, чтобы найти оптимальное значение вектора $\\theta$. (Учтите, что команда находит минимум функции от нескольких переменных. Параметр `theta` нужно будет упаковать в вектор, а параметры `X` и `y` связать замыканием.)\n",
        "\n",
        "По аналогии с функцией `Jv` напишите функцию `dJv` для вычисления градиента по одному параметру `theta`. Добавьте в `sp.optimize.minimize` параметр `jac=dJv` для ускорения расчётов и повышения точности."
      ]
    },
    {
      "cell_type": "code",
      "metadata": {
        "id": "G4hvuFnNqwX5",
        "colab": {
          "base_uri": "https://localhost:8080/"
        },
        "outputId": "87b0a78c-2117-4f1d-a662-ceaddeb4543b"
      },
      "source": [
        "def Jv(th):\n",
        "    theta = np.array(th)\n",
        "    theta = np.reshape(theta, (n+1, 1))\n",
        "    return J(theta, Xdata1, ydata)\n",
        "\n",
        "# ИСПРАВЬТЕ ИЛИ ДОПОЛНИТЕ КОД НИЖЕ\n",
        "def dJv(th):\n",
        "    pass\n",
        "\n",
        "result = so.minimize(Jv, [0.0] * (n+1), method='BFGS')\n",
        "###\n",
        "\n",
        "print(result)\n",
        "theta_bfgs = np.reshape(result.x, (n+1, 1))"
      ],
      "execution_count": 423,
      "outputs": [
        {
          "output_type": "stream",
          "text": [
            "      fun: 0.0009870699732808506\n",
            " hess_inv: array([[ 9.28903476, -1.68354089],\n",
            "       [-1.68354089,  0.34193486]])\n",
            "      jac: array([-2.91038305e-11, -1.30967237e-10])\n",
            "  message: 'Optimization terminated successfully.'\n",
            "     nfev: 28\n",
            "      nit: 5\n",
            "     njev: 7\n",
            "   status: 0\n",
            "  success: True\n",
            "        x: array([0.75016281, 0.06388111])\n"
          ],
          "name": "stdout"
        }
      ]
    },
    {
      "cell_type": "markdown",
      "metadata": {
        "collapsed": true,
        "id": "KjgZ5apSqwX6"
      },
      "source": [
        "Графически оценим результаты вычислений."
      ]
    },
    {
      "cell_type": "code",
      "metadata": {
        "id": "fXlrkqPEqwX6",
        "colab": {
          "base_uri": "https://localhost:8080/",
          "height": 329
        },
        "outputId": "9e42005c-65dd-4f71-fc36-47eb85fef37c"
      },
      "source": [
        "print(theta_bfgs)\n",
        "yp = h(Xdata1, theta_bfgs) # Предсказанные значения\n",
        "plot_data(Xdata, ydata, Xdata, yp)"
      ],
      "execution_count": 424,
      "outputs": [
        {
          "output_type": "stream",
          "text": [
            "[[0.75016281]\n",
            " [0.06388111]]\n"
          ],
          "name": "stdout"
        },
        {
          "output_type": "display_data",
          "data": {
            "image/png": "[encoded data removed]",
            "text/plain": [
              "<Figure size 432x288 with 1 Axes>"
            ]
          },
          "metadata": {
            "tags": [],
            "needs_background": "light"
          }
        }
      ]
    },
    {
      "cell_type": "code",
      "metadata": {
        "id": "5Kn3HWhNLD5I"
      },
      "source": [
        "yp_bfgs = yp"
      ],
      "execution_count": 425,
      "outputs": []
    },
    {
      "cell_type": "markdown",
      "metadata": {
        "collapsed": true,
        "id": "U8GfeASzqwX6"
      },
      "source": [
        "### Упрощённая проверка моделей\n",
        "При помощи каждой из моделей предскажите рост 4-летнего ребёнка."
      ]
    },
    {
      "cell_type": "code",
      "metadata": {
        "collapsed": true,
        "id": "A8Ck5l5UqwX7",
        "colab": {
          "base_uri": "https://localhost:8080/"
        },
        "outputId": "5198446d-bae7-477b-e6a0-7a6e70214081"
      },
      "source": [
        "# ИСПРАВЬТЕ ИЛИ ДОПОЛНИТЕ КОД НИЖЕ\n",
        "x1 = Xdata[0]\n",
        "y1 = yp_norm[0]\n",
        "\n",
        "x2 = Xdata[-1]\n",
        "y2 = yp_norm[-1]\n",
        "\n",
        "k = (y1 - y2) / (x1 - x2)\n",
        "b = y2 - k*x2\n",
        "y4_norm = 4*k + b\n",
        "print(y4_norm)\n",
        "###"
      ],
      "execution_count": 360,
      "outputs": [
        {
          "output_type": "stream",
          "text": [
            "[1.07]\n"
          ],
          "name": "stdout"
        }
      ]
    },
    {
      "cell_type": "code",
      "metadata": {
        "colab": {
          "base_uri": "https://localhost:8080/"
        },
        "id": "i53JC98vCOfn",
        "outputId": "207f1f31-2217-4ada-cd63-027f269e1f77"
      },
      "source": [
        "x1 = Xdata[0]\r\n",
        "y1 = yp_grad[0]\r\n",
        "\r\n",
        "x2 = Xdata[-1]\r\n",
        "y2 = yp_grad[-1]\r\n",
        "\r\n",
        "k = (y1 - y2) / (x1 - x2)\r\n",
        "b = y2 - k*x2\r\n",
        "y4_grad = 4*k + b\r\n",
        "print(y4_grad)"
      ],
      "execution_count": 372,
      "outputs": [
        {
          "output_type": "stream",
          "text": [
            "[0.97690889]\n"
          ],
          "name": "stdout"
        }
      ]
    },
    {
      "cell_type": "code",
      "metadata": {
        "colab": {
          "base_uri": "https://localhost:8080/"
        },
        "id": "xTem8BywCPm5",
        "outputId": "410c241e-82d5-4071-88f5-6fce7630cb13"
      },
      "source": [
        "x1 = Xdata[0]\r\n",
        "y1 = yp_bfgs[0]\r\n",
        "\r\n",
        "x2 = Xdata[-1]\r\n",
        "y2 = yp_bfgs[-1]\r\n",
        "\r\n",
        "k = (y1 - y2) / (x1 - x2)\r\n",
        "b = y2 - k*x2\r\n",
        "y4_bfgs = 4*k + b\r\n",
        "print(y4_bfgs)"
      ],
      "execution_count": 426,
      "outputs": [
        {
          "output_type": "stream",
          "text": [
            "[1.00568725]\n"
          ],
          "name": "stdout"
        }
      ]
    },
    {
      "cell_type": "markdown",
      "metadata": {
        "id": "4Y_MKAI2qwX7"
      },
      "source": [
        "## Задача 2. Цены на дом\n",
        "\n",
        "Требуется найти зависимость стоимости дома (в долларах США) от двух параметров: площади (в кв. футах, первый столбец) и количества спален (второй столбец).\n",
        "\n",
        "Загрузим исходные данные."
      ]
    },
    {
      "cell_type": "code",
      "metadata": {
        "collapsed": true,
        "id": "14uDk4yxqwX7"
      },
      "source": [
        "data = sio.loadmat('prices.mat')\n",
        "Xdata = data['house']\n",
        "ydata = data['price']"
      ],
      "execution_count": 700,
      "outputs": []
    },
    {
      "cell_type": "markdown",
      "metadata": {
        "id": "qTIYxr8RqwX8"
      },
      "source": [
        "Дальнейшие вычисления с помощью обоих рассмотренных методов выполните самостоятельно. В этой задаче регрессия множественная, но если вы в предыдущей задачи использовали векторизованные вычисления, то функции не потребуют значительного изменения."
      ]
    },
    {
      "cell_type": "markdown",
      "metadata": {
        "id": "YLFF2YNSMRSd"
      },
      "source": [
        "### Нормальное уравнение"
      ]
    },
    {
      "cell_type": "code",
      "metadata": {
        "colab": {
          "base_uri": "https://localhost:8080/"
        },
        "id": "tkzGDTjEMtiW",
        "outputId": "9b0f079e-e0fe-44d3-adf6-79c986854782"
      },
      "source": [
        "m, n = Xdata.shape\r\n",
        "\r\n",
        "x = np.array(Xdata[:,:])\r\n",
        "y = np.array([ydata[:,0]]).T\r\n",
        "x = np.column_stack((np.ones_like(x[:,0]), x))\r\n",
        "\r\n",
        "one = np.linalg.pinv(np.dot(x.T, x))\r\n",
        "two = np.dot(x.T, y)\r\n",
        "theta_norm = np.dot(one, two)\r\n",
        "\r\n",
        "print(theta_norm)\r\n",
        "yp = h(x, theta_norm) # Предсказанные значения"
      ],
      "execution_count": 721,
      "outputs": [
        {
          "output_type": "stream",
          "text": [
            "[[89597.90954361]\n",
            " [  139.21067402]\n",
            " [-8738.01911255]]\n"
          ],
          "name": "stdout"
        }
      ]
    },
    {
      "cell_type": "code",
      "metadata": {
        "colab": {
          "base_uri": "https://localhost:8080/",
          "height": 265
        },
        "id": "5x55Lr_INk4O",
        "outputId": "a0282afb-b013-451b-dede-39ce19ddf82f"
      },
      "source": [
        "import matplotlib.pyplot as plt\r\n",
        "from mpl_toolkits.mplot3d import Axes3D\r\n",
        "fig = plt.figure()\r\n",
        "ax = plt.gca(projection=\"3d\")\r\n",
        "ax.scatter(Xdata[:, 0], Xdata[:, 1], ydata)\r\n",
        "ax.scatter(Xdata[:, 0], Xdata[:, 1], yp)"
      ],
      "execution_count": 723,
      "outputs": [
        {
          "output_type": "execute_result",
          "data": {
            "text/plain": [
              "<mpl_toolkits.mplot3d.art3d.Path3DCollection at 0x7f2a278855c0>"
            ]
          },
          "metadata": {
            "tags": []
          },
          "execution_count": 723
        },
        {
          "output_type": "display_data",
          "data": {
            "image/png": "[encoded data removed]",
            "text/plain": [
              "<Figure size 432x288 with 1 Axes>"
            ]
          },
          "metadata": {
            "tags": [],
            "needs_background": "light"
          }
        }
      ]
    },
    {
      "cell_type": "markdown",
      "metadata": {
        "id": "nf6uvtUUsrN5"
      },
      "source": [
        "### Градиентный спуск"
      ]
    },
    {
      "cell_type": "code",
      "metadata": {
        "id": "JtCOxH4Us1UO"
      },
      "source": [
        "eps = 0.01\r\n",
        "# НАЙДИТЕ ОПТИМАЛЬНОЕ ЗНАЧЕНИЕ КОЭФФИЦИЕНТА alpha\r\n",
        "alpha = 0.01"
      ],
      "execution_count": 752,
      "outputs": []
    },
    {
      "cell_type": "code",
      "metadata": {
        "colab": {
          "base_uri": "https://localhost:8080/",
          "height": 214
        },
        "id": "qvDZl50LtEU0",
        "outputId": "e3ba3218-7e85-474a-d065-e2b0f880260a"
      },
      "source": [
        "k, Kmax = 0, 1000000\r\n",
        "norms = []\r\n",
        "\r\n",
        "x = np.array(Xdata[:,:])\r\n",
        "x = np.column_stack((np.ones_like(x[:,0]), x))\r\n",
        "\r\n",
        "# Инициализация\r\n",
        "theta_grad = np.zeros((n+1, 1))\r\n",
        "while True:\r\n",
        "    d = dJ(theta_grad, x, ydata) # Текущее значение градиента\r\n",
        "    \r\n",
        "    norm = np.linalg.norm(d)\r\n",
        "    norms.append(norm)\r\n",
        "    k += 1\r\n",
        "    if k > Kmax or norm < eps: break\r\n",
        "\r\n",
        "    # Один шаг градиентного спуска\r\n",
        "    # ИСПРАВЬТЕ ИЛИ ДОПОЛНИТЕ КОД НИЖЕ\r\n",
        "    theta_grad = theta_grad - alpha*d\r\n",
        "    ###"
      ],
      "execution_count": 755,
      "outputs": [
        {
          "output_type": "error",
          "ename": "ValueError",
          "evalue": "ignored",
          "traceback": [
            "\u001b[0;31m---------------------------------------------------------------------------\u001b[0m",
            "\u001b[0;31mValueError\u001b[0m                                Traceback (most recent call last)",
            "\u001b[0;32m<ipython-input-755-f0f3acbacf97>\u001b[0m in \u001b[0;36m<module>\u001b[0;34m()\u001b[0m\n\u001b[1;32m     17\u001b[0m     \u001b[0;31m# Один шаг градиентного спуска\u001b[0m\u001b[0;34m\u001b[0m\u001b[0;34m\u001b[0m\u001b[0;34m\u001b[0m\u001b[0m\n\u001b[1;32m     18\u001b[0m     \u001b[0;31m# ИСПРАВЬТЕ ИЛИ ДОПОЛНИТЕ КОД НИЖЕ\u001b[0m\u001b[0;34m\u001b[0m\u001b[0;34m\u001b[0m\u001b[0;34m\u001b[0m\u001b[0m\n\u001b[0;32m---> 19\u001b[0;31m     \u001b[0mtheta_grad\u001b[0m \u001b[0;34m=\u001b[0m \u001b[0mtheta_grad\u001b[0m \u001b[0;34m-\u001b[0m \u001b[0malpha\u001b[0m\u001b[0;34m*\u001b[0m\u001b[0md\u001b[0m\u001b[0;34m\u001b[0m\u001b[0;34m\u001b[0m\u001b[0m\n\u001b[0m\u001b[1;32m     20\u001b[0m     \u001b[0;31m###\u001b[0m\u001b[0;34m\u001b[0m\u001b[0;34m\u001b[0m\u001b[0;34m\u001b[0m\u001b[0m\n",
            "\u001b[0;31mValueError\u001b[0m: operands could not be broadcast together with shapes (3,1) (2,1) "
          ]
        }
      ]
    },
    {
      "cell_type": "markdown",
      "metadata": {
        "id": "WSt0dD74qwX8"
      },
      "source": [
        "При помощи каждой из моделей предскажите цену на дом площадью 2104 кв. фута с 3 спальнями."
      ]
    },
    {
      "cell_type": "markdown",
      "metadata": {
        "id": "Poqbi--lqwX8"
      },
      "source": [
        "## Выводы\n",
        "\n",
        "Сделайте выводы о применимости рассмотренных методов для решения задачи линейной регрессии.\n",
        "\n",
        "- Какие подготовительные действия приходится выполнять перед собственно обучением? Почему?\n",
        "- Какой из рассмотренных методов проще? Какой точнее?\n",
        "- Какие преимущества и недостатки у каждого и методов?\n",
        "- С какими сложностями вы столкнулись в ходе выполнения работы?"
      ]
    }
  ]
}